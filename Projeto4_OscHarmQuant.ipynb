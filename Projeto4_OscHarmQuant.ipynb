{
  "nbformat": 4,
  "nbformat_minor": 0,
  "metadata": {
    "colab": {
      "name": "Projeto4_OscHarmQuant.ipynb",
      "provenance": [],
      "collapsed_sections": [],
      "authorship_tag": "ABX9TyOd2QO5WsoAEtKt9gGUUNQU",
      "include_colab_link": true
    },
    "kernelspec": {
      "name": "python3",
      "display_name": "Python 3"
    },
    "language_info": {
      "name": "python"
    }
  },
  "cells": [
    {
      "cell_type": "markdown",
      "metadata": {
        "id": "view-in-github",
        "colab_type": "text"
      },
      "source": [
        "<a href=\"https://colab.research.google.com/github/Lucas01iveira/metodos-em-fisica-computacional/blob/main/Projeto4_OscHarmQuant.ipynb\" target=\"_parent\"><img src=\"https://colab.research.google.com/assets/colab-badge.svg\" alt=\"Open In Colab\"/></a>"
      ]
    },
    {
      "cell_type": "code",
      "execution_count": 1,
      "metadata": {
        "id": "V0pD-yIzvLi3"
      },
      "outputs": [],
      "source": [
        "import numpy as np\n",
        "import matplotlib.pyplot as plt\n",
        "from scipy.special import hermite as H\n",
        "import imageio "
      ]
    },
    {
      "cell_type": "markdown",
      "source": [
        "## Para desenvolver esse projeto, serão construídas funções com os seguintes requisitos:\n",
        "- 0) Função que gera uma condição inicial de energia n (Psi(x,0))\n",
        "- 1) Função que resolve a equação de Shcrodinger completa\n",
        "- 3) Função que calcula, para um determinado instante de tempo, o valor esperado da energia\n",
        "- 4) Função que calcula, para um determinado instante de tempo, o valor esperado da posição\n",
        "- 5) Função que produz animações da evolução temporal da função de onda Psi(x,t)"
      ],
      "metadata": {
        "id": "fS598-EFdlif"
      }
    },
    {
      "cell_type": "markdown",
      "source": [
        "#! Ps.: Estaremos utilizando unidades tais que $h_{bar} = m = 1$ !#"
      ],
      "metadata": {
        "id": "qRT5Akb8kzvF"
      }
    },
    {
      "cell_type": "markdown",
      "source": [
        "### 0) Cria condição inicial"
      ],
      "metadata": {
        "id": "Tao3tX3ugOU1"
      }
    },
    {
      "cell_type": "code",
      "source": [
        "# Função auxiliar que, dados os parâmetros L, r e dt, retorna um vetor\n",
        "# simétrico de valores espaciais 'x' e o passo 'dx' entre cada um deles\n",
        "\n",
        "def cria_vetor_espacial(L, r, dt):\n",
        "  # Parâmetros de entrada:\n",
        "    # - L: 'tamanho' espacial do sistema\n",
        "    # - r: parâmetro numérico auxiliar de definição do passo espacial\n",
        "    # - dt: passo temporal\n",
        "\n",
        "  # Valores de saída: \n",
        "    # - Vetor unidimensional de tamanho 2L contendo pontos de posição espaçados por\n",
        "    # uma distância dx \n",
        "    \n",
        "    # - O espaçamento dx entre cada ponto do vetor (definido em termos de r e dt)\n",
        "  # ----------------------------------------------------------------------------------------\n",
        "  dx = np.sqrt(dt/(2*r))\n",
        "  return np.arange(-L, L+dx, dx), dx"
      ],
      "metadata": {
        "id": "ER_NlwMwjoFw"
      },
      "execution_count": 2,
      "outputs": []
    },
    {
      "cell_type": "code",
      "source": [
        "# Função auxiliar que, dados os parâmetros m e omega, retorna a função potencial\n",
        "\n",
        "def potencial_V(x):\n",
        "  # Parâmetros de entrada:\n",
        "    # - x: vetor de posições espaciais\n",
        "\n",
        "  # Valores de saída:\n",
        "    # Vetor com os valores da função potencial do problema em estudo\n",
        "\n",
        "  # !ATENÇÃO!\n",
        "  # A variável omega (frequência angular de oscilação) deve ser definida como uma variável global,\n",
        "  # assim como a constante m\n",
        "  # ----------------------------------------------------------------------------------------\n",
        "\n",
        "  return (1/2) * m * (omega)**2 * (x**2)\n",
        "\n",
        "  # debug do potencial nulo\n",
        "  #return np.zeros(len(x))\n",
        "\n",
        "# Eu achei melhor definir as variáveis globais assim, pois dessa forma, caso haja interesse em estudar\n",
        "# outros tipos de problemas, é só voltar aqui e alterar a saída do return"
      ],
      "metadata": {
        "id": "1SrA9IWxo_cM"
      },
      "execution_count": 3,
      "outputs": []
    },
    {
      "cell_type": "code",
      "source": [
        "# Função que gera a condição inicial do problema dados os parâmetros de interesse\n",
        "\n",
        "def auto_funcao(n,x):\n",
        "  # Parâmetros de entrada:\n",
        "    # - x: vetor de posições espaciais\n",
        "\n",
        "  # Valores de saída:\n",
        "    # - Vetor de valores psi_n(x), com a função psi correspondente ao n-ésimo\n",
        "    # auto-estado de energia possível do oscilador harmônico calculada em cada ponto\n",
        "    # do espaço\n",
        "\n",
        "  # !ATENÇÃO!\n",
        "  # As variáveis omega (frequência angular de oscilação) e n (ordem do auto-estado de energia)\n",
        "  # devem ser definidas como variáveis globais no código principal, assim como as constantes m e h_bar\n",
        "  # ----------------------------------------------------------------------------------------\n",
        "\n",
        "  const_1 = ( (m*omega)/(np.pi*h_bar) )**(1/4) # primeira constante multiplicativa\n",
        "  const_2 = 1/np.sqrt((2**n) * np.math.factorial(n)) # segunda constante multiplicativa\n",
        "  xi = np.sqrt( (m*omega)/h_bar )*x # variável auxiliar xi\n",
        "  H_n = H(n) # define a função que calcula o polinômio de hermite de ordem n em qualquer ponto\n",
        "              # (módulo scipy)\n",
        "\n",
        "  psi_n = const_1 * const_2 * H_n(xi) * np.exp( -(xi**2)/2 )\n",
        "\n",
        "  return psi_n\n",
        "  \n",
        "  # debug da função gaussianóide vista em aula\n",
        "  xc=-0.5\n",
        "  sigma=0.1\n",
        "  k0=20\n",
        "  num = np.exp( -(x-xc)**2/(4*sigma**2) )\n",
        "  den = (2*np.pi)**(1/4)*sigma**(1/2)\n",
        "  func_aux = num/den \n",
        "  #return func_aux*np.exp(1j*k0*x)\n",
        "  \n",
        "\n",
        "# Eu achei melhor definir as variáveis globais assim, pois dessa forma, caso haja interesse em estudar\n",
        "# outras formas de condições iniciais, é só voltar aqui e alterar a saída do return"
      ],
      "metadata": {
        "id": "AuJoFcWYvSvV"
      },
      "execution_count": 4,
      "outputs": []
    },
    {
      "cell_type": "code",
      "source": [
        "# Teste de funcionamento (okay!)\n",
        "\n",
        "L = 5 # tamanho do sistema\n",
        "dt = 0.0001 # passo temporal\n",
        "r = 1 # parâmetro auxiliar\n",
        "x_plot, dx = cria_vetor_espacial(L, r, dt) # vetor espacial\n",
        "\n",
        "m = h_bar = 1 # constantes principais\n",
        "omega = 1 # frequência de oscilação\n",
        "n = 0 # auto-funcao inicial\n",
        "\n",
        "psi_t0_plot = auto_funcao(n,x_plot)\n",
        "V_plot = potencial_V(x_plot)\n",
        "\n",
        "plt.plot(x_plot, np.abs(psi_t0_plot)**2, color='blue', label=r'$|\\Psi(x,0)|^2 = |\\psi_0(x)|$')\n",
        "plt.ylim(0,6)\n",
        "plt.legend()\n",
        "#plt.show()\n",
        "\n",
        "#print()\n",
        "\n",
        "plt.plot(x_plot, V_plot, color='red', label='V(x)')\n",
        "plt.legend()\n",
        "#plt.show()\n"
      ],
      "metadata": {
        "colab": {
          "base_uri": "https://localhost:8080/",
          "height": 286
        },
        "id": "9c8hqv_NoUtX",
        "outputId": "ae286e83-e793-4e84-d5af-7b1b5bca2927"
      },
      "execution_count": 5,
      "outputs": [
        {
          "output_type": "execute_result",
          "data": {
            "text/plain": [
              "<matplotlib.legend.Legend at 0x7ffb5d9eed50>"
            ]
          },
          "metadata": {},
          "execution_count": 5
        },
        {
          "output_type": "display_data",
          "data": {
            "text/plain": [
              "<Figure size 432x288 with 1 Axes>"
            ],
            "image/png": "[encoded data removed]"
          },
          "metadata": {
            "needs_background": "light"
          }
        }
      ]
    },
    {
      "cell_type": "markdown",
      "source": [
        "### 1) Resolve a equação de Schrodinger completa"
      ],
      "metadata": {
        "id": "WbCLEopXgTT1"
      }
    },
    {
      "cell_type": "code",
      "source": [
        "# Função que define o range temporal do problema\n",
        "\n",
        "def cria_vetor_temporal(tf, dt):\n",
        "  # Parâmetros de entrada\n",
        "    # - tf: tempo final da simulação\n",
        "    # - dt: intervalo de tempo entre os pontos do vetor\n",
        "  # Valores de saída\n",
        "    # - Vetor com os valores de tempo indo de 0 a tf, igualmente espaçados por dt\n",
        "  \n",
        "  # ----------------------------------------------------------------------------------------\n",
        "  return np.arange(0, tf+dt, dt)"
      ],
      "metadata": {
        "id": "ewf-hyKVyxwi"
      },
      "execution_count": 6,
      "outputs": []
    },
    {
      "cell_type": "code",
      "source": [
        "# Função que soluciona numericamente a equação de Schrodinger completa com base no\n",
        "# método RK-2 (Runge-Kutta de ordem 2)\n",
        "\n",
        "def resolve_Schrodinger(x, t, cond_initi):\n",
        "  # Parâmetros de entrada:\n",
        "    # - Psi_t0: função que caracteriza a função de onda no instante t = 0\n",
        "    # - V: função potencial \n",
        "    # - tf: instante final da simulação\n",
        "    # - dt: passo temporal\n",
        "    # - r: parâmetro numérico auxiliar (definição de dt e dx)\n",
        "\n",
        "  # Valores de saída\n",
        "    # - Psi: matriz Psi(x,t) representando a função de onda em cada ponto para todos\n",
        "    # os instantes de tempo definidos no problema\n",
        "    # - N: vetor de normalização para todos os instantes de tempo\n",
        "\n",
        "  # !ATENÇÃO!\n",
        "  # As constantes omega e n (presentes, nesse estudo em questão, nas funções responsáveis\n",
        "  # por determinar o potencial e a condição inicial em cada ponto) devem ser definidas\n",
        "  # como variáveis globais, bem como as constantes m e h_bar.\n",
        "  # ----------------------------------------------------------------------------------------\n",
        "\n",
        "  xsize = len(x) # tamanho do vetor espacial\n",
        "  tsize = len(t) # tamanho do vetor temporal\n",
        "\n",
        "  R = np.zeros( (xsize,tsize) ) # parte real da Psi\n",
        "  I = np.zeros( (xsize,tsize) ) # parte complexa da Psi\n",
        "  Psi = np.zeros( (xsize,tsize), dtype='complex' ) # matriz Psi(x,t)\n",
        "  V = potencial_V(x) # potencial em cada ponto \n",
        "  meio = np.zeros( (2,xsize) ) # matriz auxiliar para guardar os meios passos\n",
        "  N = np.zeros(tsize) # vetor para guardar a integral de normalização em cada instante\n",
        "\n",
        "  # aplica a condição inicial\n",
        "  Psi[:,0] = cond_initi\n",
        "\n",
        "  # corrige as condições de contorno\n",
        "  Psi[xsize-1,:] = 0 \n",
        "  Psi[0,:] = 0 \n",
        "\n",
        "  # aplica a cond inicial, com conds contorno ja ajustadas, na parte real e na parte imaginária\n",
        "  R[:,0] = np.real(Psi[:,0])\n",
        "  I[:,0] = np.imag(Psi[:,0])\n",
        "\n",
        "  # -- x -- x -- x -- x -- x -- x -- x -- x -- x -- x -- x -- x -- x -- x --\n",
        "\n",
        "  # Funções auxiliares necessárias ao desenvolvimento do método RK2\n",
        "  def calcula_k_I(r, dt, R_right, R_here, R_left, V_here):\n",
        "    return r*(R_right - 2*R_here + R_left) - V_here*R_here*dt\n",
        "  \n",
        "  def calcula_k_R(r, dt, I_right, I_here, I_left, V_here):\n",
        "    return -r*(I_right -2*I_here + I_left) + V_here*I_here*dt\n",
        "\n",
        "  # -- x -- x -- x -- x -- x -- x -- x -- x -- x -- x -- x -- x -- x -- x --\n",
        "\n",
        "  # inicia o loop de aplicação do método RK-2 atualizando R(i,n) e I(i,n)\n",
        "\n",
        "  for n in range(tsize-1): # para cada instante de tempo\n",
        "    for i in range(xsize-1): # para cada posição \n",
        "      # calcula k1_R, k2_I e os valores a meio-passo\n",
        "      k1_R = calcula_k_R(r, dt, I[i+1][n], I[i][n], I[i-1][n], V[i]) # k1 é calculado para as variáveis agora (n atual)\n",
        "      k1_I = calcula_k_I(r, dt, R[i+1][n], R[i][n], R[i-1][n], V[i]) # k1 é calculado para as variáveis agora (n atual)\n",
        "    \n",
        "      # calcula as variáveis a meio passo\n",
        "      R_12_passo = R[i][n] + k1_R/2\n",
        "      I_12_passo = I[i][n] + k1_I/2\n",
        "\n",
        "      # atualiza na matriz meio-passo\n",
        "      meio[0][i] = R_12_passo # joga o R para a primeira linha \n",
        "      meio[1][i] = I_12_passo # joga o I para a segunda linha \n",
        "    \n",
        "    # calcula R_12_passo e I_12_passo para o último elemento (não englobado no loop anterior)\n",
        "    k1_R = calcula_k_R(r, dt, 0, I[xsize-1][n], I[xsize-2][n], V[xsize-1]) # I[(xsize-1) + 1][n] = 0 (condição de contorno)\n",
        "    k1_I = calcula_k_I(r, dt, 0, R[xsize-1][n], R[xsize-2][n], V[xsize-1]) # R[(xsize-1) + 1][n] = 0 (condição de contorno)\n",
        "\n",
        "    ultimo_R_12_passo = R[xsize-1][n] + k1_R/2\n",
        "    ultimo_I_12_passo = I[xsize-1][n] + k1_I/2\n",
        "\n",
        "    # acrescenta na matriz\n",
        "    meio[0][xsize-1] = ultimo_R_12_passo\n",
        "    meio[1][xsize-1] = ultimo_I_12_passo\n",
        "\n",
        "    # loop para atualizar a função psi\n",
        "    for i in range(1,xsize-1): # de 1 até xsize-1 porque as bordas têm que estar sempre em 0 (cond contorno)\n",
        "      # calcula k2_R e k2_I\n",
        "      k2_R = calcula_k_R(r, dt, meio[1][i+1], meio[1][i], meio[1][i-1], V[i]) # k2_R é calculado com o I_12_passo, já atualizado para todas as posições na matriz 'meio'\n",
        "      k2_I = calcula_k_I(r, dt, meio[0][i+1], meio[0][i], meio[0][i-1], V[i]) # k2_I é calculado com o R_12_passo, já atualizado para todas as posições na matriz 'meio'\n",
        "\n",
        "      # atualiza os vetores R e I\n",
        "      R[i][n+1] = R[i][n] + k2_R\n",
        "      I[i][n+1] = I[i][n] + k2_I\n",
        "\n",
        "      # atualiza a matriz psi\n",
        "      Psi[i][n+1] = R[i][n+1] + 1j*I[i][n+1]\n",
        "    \n",
        "    # uma vez atualizadas as variáveis no instante n, verifica a normalização e atualiza no vetor N\n",
        "    N[n] = np.sum(np.abs(Psi[:,n])**2)*dx\n",
        "\n",
        "  # calcula a última norma separadamente\n",
        "  N[tsize-1] = np.sum(np.abs(Psi[:,tsize-1])**2)*dx\n",
        "\n",
        "  return Psi, N"
      ],
      "metadata": {
        "id": "KnIlRrXPxiE3"
      },
      "execution_count": 7,
      "outputs": []
    },
    {
      "cell_type": "code",
      "source": [
        "# teste de funcionamento (okay!)\n",
        "\n",
        "m = h_bar = 1 # constantes principais ajustadas a 1\n",
        "omega = 50 # frequência angular de oscilação do sistema\n",
        "n = 1 # ordem do auto-estado de energia de interesse\n",
        "tf = 0.05 # tempo final da simulação\n",
        "dt = 0.0001 # passo temporal\n",
        "r = 0.075 # parâmetro numérico auxiliar\n",
        "L = 1 # 'tamanho' espacial do sistema\n",
        "\n",
        "x, dx = cria_vetor_espacial(L, r, dt)\n",
        "Psi_t0 = auto_funcao(n, x)\n",
        "\n",
        "t = cria_vetor_temporal(tf, dt)\n",
        "Psi, N = resolve_Schrodinger(x, t, Psi_t0)\n",
        "\n",
        "xsize = len(x)\n",
        "for i in range(10):\n",
        "    print(\"{:10.6e}\".format( Psi[xsize//2+i,-1]) )\n",
        "for j in range(-10,0):\n",
        "    print(\"{:10.6e}\".format( N[j]) )\n",
        "\n"
      ],
      "metadata": {
        "colab": {
          "base_uri": "https://localhost:8080/"
        },
        "id": "z5Taj-ZE5LJo",
        "outputId": "f645068e-78c9-4698-c12a-3dc0bd7a0be5"
      },
      "execution_count": 8,
      "outputs": [
        {
          "output_type": "stream",
          "name": "stdout",
          "text": [
            "-1.149114e-01+8.007134e-02j\n",
            "-5.264741e-01+3.666787e-01j\n",
            "-8.867497e-01+6.169382e-01j\n",
            "-1.164109e+00+8.085592e-01j\n",
            "-1.339737e+00+9.284834e-01j\n",
            "-1.409433e+00+9.741176e-01j\n",
            "-1.382510e+00+9.524574e-01j\n",
            "-1.278388e+00+8.775532e-01j\n",
            "-1.121926e+00+7.671147e-01j\n",
            "-9.386854e-01+6.391240e-01j\n",
            "1.000000e+00\n",
            "1.000000e+00\n",
            "1.000000e+00\n",
            "1.000000e+00\n",
            "1.000000e+00\n",
            "1.000000e+00\n",
            "1.000000e+00\n",
            "1.000000e+00\n",
            "1.000000e+00\n",
            "1.000000e+00\n"
          ]
        }
      ]
    },
    {
      "cell_type": "code",
      "source": [
        "# comparação da função |Psi(x,t)|^2 obtida pela simulação com a função |Psi(x,t)|^2 analítica\n",
        "# (solução analítica da eq de Schrodinger) para o estado de energia n = 0.\n",
        "\n",
        "m = h_bar = 1 # constantes principais ajustadas a 1\n",
        "omega = 1 # frequência angular de oscilação do sistema\n",
        "n = 0 # ordem do auto-estado de energia de interesse\n",
        "tf = 0.5 # tempo final da simulação\n",
        "dt = 0.001 # passo temporal\n",
        "r = 0.075 # parâmetro numérico auxiliar\n",
        "L = 0.5 # 'tamanho' espacial do sistema\n",
        "\n",
        "x, dx = cria_vetor_espacial(L, r, dt)\n",
        "Psi_t0 = auto_funcao(n, x)\n",
        "Psi, N= resolve_Schrodinger(x, t, Psi_t0)\n",
        "\n",
        "xsize = len(x)\n",
        "tsize = len(t)\n",
        "\n",
        "plt.scatter(x, np.abs(Psi[:,0])**2, label=r'$| \\Psi(x,t_f)|^2$')\n",
        "plt.plot(x, np.abs(auto_funcao(n,x))**2, label=r'$|\\psi_0(x)|^2$', color='red')\n",
        "plt.legend()\n",
        "plt.show()\n",
        "\n",
        "#plt.scatter(t, N)\n",
        "#plt.ylim(0,6)"
      ],
      "metadata": {
        "colab": {
          "base_uri": "https://localhost:8080/",
          "height": 265
        },
        "id": "RoR8nmeROevi",
        "outputId": "a5fee59a-b186-40be-abfe-274141d82226"
      },
      "execution_count": 9,
      "outputs": [
        {
          "output_type": "display_data",
          "data": {
            "text/plain": [
              "<Figure size 432x288 with 1 Axes>"
            ],
            "image/png": "[encoded data removed]"
          },
          "metadata": {
            "needs_background": "light"
          }
        }
      ]
    },
    {
      "cell_type": "markdown",
      "source": [
        "- A escolha dos parâmetros de simulação (em especial, L) não foi feita corretamente)"
      ],
      "metadata": {
        "id": "dN5pPYAzjTa0"
      }
    },
    {
      "cell_type": "markdown",
      "source": [
        "### 2) Calcula <E\\> (t)"
      ],
      "metadata": {
        "id": "6egeu_H3gfor"
      }
    },
    {
      "cell_type": "code",
      "source": [
        "# Função que toma a função de onda Psi(x,t), os vetores espacial e temporal,\n",
        "# e retorna o valor esperado da energia \n",
        "def valor_esperado_E(Psi, N, x, dx, t):\n",
        "  # Parâmetros de entrada:\n",
        "    # - Psi: matriz Psi(x,t) contendo a função de onda para todas as posições e todos os instantes de tempo\n",
        "    # - N: vetor de normalização da simulação efetuada\n",
        "    # - x: vetor espacial do sistema simulado\n",
        "    # - dx: passo espacial\n",
        "    # - t: vetor temporal do sistema simulado\n",
        "    # - potencial: função potencial\n",
        "\n",
        "  # Valores de saída:\n",
        "    # - esp_E: vetor contendo o valor esperado da energia para cada instante de tempo\n",
        "  # ----------------------------------------------------------------------------------------\n",
        "\n",
        "  xsize = len(x) # tamanho do vetor espacial\n",
        "  tsize = len(t) # tamanho do vetor temporal\n",
        "\n",
        "  R = np.real(Psi) # parte real da função de onda\n",
        "  I = np.imag(Psi) # parte imaginária da função de onda\n",
        "  V = potencial_V(x) # potencial em cada ponto\n",
        "  HR = np.zeros(xsize) # hamiltoniano aplicado à parte real\n",
        "  HI = np.zeros(xsize) # hamiltoniano aplicado à parte imaginaria\n",
        "  HPsi = np.zeros( (xsize, tsize) ) # hamiltoniano aplicado à função de onda completa Psi\n",
        "  esp_E = np.zeros(tsize) # vetor para guardar o cálculo de <E> a cada instante de tempo\n",
        "\n",
        "  for n in range(tsize): # para cada instante de tempo\n",
        "    # não é preciso resetar os vetores HI e HR a cada volta do loop;\n",
        "    # eles terão seus valores atualizados normalmente para cada instante de tempo\n",
        "\n",
        "    # calcula o termo 0 separadamente de cada hamiltoniano\n",
        "    HR[0] = -(1/2)*(R[1][n] - 2*R[0][n])/dx**2 + V[0]*R[0][n] # derivada 2ª simétrica (nesse caso o termo[i-1] = 0)\n",
        "    HI[0] = -(1/2)*(I[1][n] - 2*I[0][n])/dx**2 + V[0]*I[0][n] # derivadas 2ª simétrica (nesse caso o termo[i-1] = 0)\n",
        "\n",
        "    for i in range(1,xsize-1): # para cada posição \n",
        "      HR[i] = -(1/2)*(R[i+1][n] - 2*R[i][n] + R[i-1][n])/dx**2 + V[i]*R[i][n]\n",
        "      HI[i] = -(1/2)*(I[i+1][n] - 2*I[i][n] + I[i-1][n])/dx**2 + V[i]*I[i][n]\n",
        "    \n",
        "    # calcula o ultimo termo separadamente de cada hamiltoniano\n",
        "    HR[xsize-1] = -(1/2)*(R[xsize-1][n] - 2*R[xsize-2][n])/dx**2 + V[xsize-1]*R[xsize-1][n] # derivada 2ª simétrica (nesse caso o termo[i+1] = 0)\n",
        "    HI[xsize-1] = -(1/2)*(I[xsize-1][n] - 2*I[xsize-2][n])/dx**2 + V[xsize-1]*I[xsize-1][n] # derivada 2ª simétrica (nesse caso o termo[i+1] = 0)\n",
        "\n",
        "    # define HPsi\n",
        "    HPsi = HR + 1j*HI\n",
        "\n",
        "    # calcula o valor esperado da energia no instante de tempo n\n",
        "    esp_E[n] = np.real(np.trapz( np.conjugate(Psi[:,n])*HPsi , dx = dx))/N[n]\n",
        "  \n",
        "  return esp_E"
      ],
      "metadata": {
        "id": "myj5DGuk4bpC"
      },
      "execution_count": 10,
      "outputs": []
    },
    {
      "cell_type": "code",
      "source": [
        "# teste de funcionamento (okay)\n",
        "m = h_bar = 1\n",
        "omega = 100 \n",
        "n = 0\n",
        "tf = 0.05 \n",
        "dt = 0.0001\n",
        "L = 1\n",
        "r = 0.075\n",
        "\n",
        "#x, dx = cria_vetor_espacial(L, r, dt)\n",
        "#plt.plot(x, potencial_V(x))\n",
        "\n",
        "x, dx = cria_vetor_espacial(L, r, dt)\n",
        "Psi_t0 = auto_funcao(n, x)\n",
        "Psi, N = resolve_Schrodinger(x, t, Psi_t0)\n",
        "\n",
        "esp_E = valor_esperado_E(Psi, N, x, dx, t)\n",
        "#print(dx)\n",
        "#plt.axhline(y = 25, color='red')\n",
        "plt.scatter(t, esp_E)\n",
        "plt.ylim(45,55)\n"
      ],
      "metadata": {
        "colab": {
          "base_uri": "https://localhost:8080/",
          "height": 282
        },
        "id": "KqpisT9Z7O7L",
        "outputId": "bcc9dcb9-e16d-4ce4-d2f1-ee3e030a3697"
      },
      "execution_count": 19,
      "outputs": [
        {
          "output_type": "execute_result",
          "data": {
            "text/plain": [
              "(45.0, 55.0)"
            ]
          },
          "metadata": {},
          "execution_count": 19
        },
        {
          "output_type": "display_data",
          "data": {
            "text/plain": [
              "<Figure size 432x288 with 1 Axes>"
            ],
            "image/png": "[encoded data removed]"
          },
          "metadata": {
            "needs_background": "light"
          }
        }
      ]
    },
    {
      "cell_type": "markdown",
      "source": [
        "### 3) Calcula <x\\>(t)"
      ],
      "metadata": {
        "id": "VnYFuZpEgotk"
      }
    },
    {
      "cell_type": "code",
      "source": [
        "def valor_esperado_x(Psi, N, x, dx, t):\n",
        "  # Parâmetros de entrada:\n",
        "    # - Psi: matriz Psi(x,t) contendo a função de onda para todas as posições e todos os instantes de tempo\n",
        "    # - N: vetor de normalização da simulação efetuada\n",
        "    # - x: vetor espacial do sistema simulado\n",
        "    # - dx: passo espacial\n",
        "    # - t: vetor temporal do sistema simulado\n",
        "    # - potencial: função potencial\n",
        "\n",
        "  # Valores de saída:\n",
        "    # - esp_E: vetor contendo o valor esperado da energia para cada instante de tempo\n",
        "  # ----------------------------------------------------------------------------------------\n",
        "\n",
        "  xsize = len(x) # tamanho do vetor espacial\n",
        "  tsize = len(t) # tamanho do vetor temporal\n",
        "\n",
        "  R = np.real(Psi) # parte real da função de onda\n",
        "  I = np.imag(Psi) # parte imaginária da função de onda\n",
        "  V = potencial_V(x) # potencial em cada ponto\n",
        "  esp_x = np.zeros(tsize) # vetor para guardar o cálculo de <E> a cada instante de tempo\n",
        "\n",
        "  for n in range(tsize): # para cada instante de tempo\n",
        "    # calcula o valor esperado da posição no instante de tempo n\n",
        "    esp_x[n] = np.trapz(x*np.abs(Psi[:,n])**2, dx=dx)/N[n]\n",
        "  \n",
        "  return esp_x"
      ],
      "metadata": {
        "id": "Osvm260OFXeI"
      },
      "execution_count": 12,
      "outputs": []
    },
    {
      "cell_type": "code",
      "source": [
        "# teste de funcionamento (okay!)\n",
        "m = h_bar = 1\n",
        "omega = 100\n",
        "n = 10 # => analiticamente que <x>(t) = 0\n",
        "tf = 0.05\n",
        "dt = 0.0001\n",
        "L = 1\n",
        "r = 0.075\n",
        "\n",
        "x, dx = cria_vetor_espacial(L, r, dt)\n",
        "t = cria_vetor_temporal(tf, dt)\n",
        "\n",
        "Psi_t0 = auto_funcao(n , x)\n",
        "\n",
        "Psi, N = resolve_Schrodinger(x, t, Psi_t0)\n",
        "esp_x = valor_esperado_x(Psi, N, x, dx, t)\n",
        "plt.plot(t, esp_x)\n",
        "plt.ylim(-0.1,0.1)"
      ],
      "metadata": {
        "colab": {
          "base_uri": "https://localhost:8080/",
          "height": 286
        },
        "id": "uEovhKkahArj",
        "outputId": "b8148ec8-289f-48f1-bacd-30e4a754d9e7"
      },
      "execution_count": 13,
      "outputs": [
        {
          "output_type": "execute_result",
          "data": {
            "text/plain": [
              "(-0.1, 0.1)"
            ]
          },
          "metadata": {},
          "execution_count": 13
        },
        {
          "output_type": "display_data",
          "data": {
            "text/plain": [
              "<Figure size 432x288 with 1 Axes>"
            ],
            "image/png": "[encoded data removed]"
          },
          "metadata": {
            "needs_background": "light"
          }
        }
      ]
    },
    {
      "cell_type": "markdown",
      "source": [
        "### 4) Cria gif que mostra a evolução temporal de Psi(x,t)"
      ],
      "metadata": {
        "id": "ckrYLv0MhXYF"
      }
    },
    {
      "cell_type": "code",
      "source": [
        "# Função para criar um gif mostrando a 'evolução temporal' da \n",
        "# função de onda de um determinado sistema\n",
        "\n",
        "def cria_gif(Psi, x, t, Name):\n",
        "  # -------------------------------------------------------------------------\n",
        "  # Parâmetros de entrada\n",
        "    # - Psi: matriz Psi caracterizando a função de onda da simulação efetuada\n",
        "    # - x: vetor espacial\n",
        "    # - t: vetor temporal\n",
        "\n",
        "  # Valores de saída:\n",
        "    # - Gif de evolução do sistema a cada instante de tempo\n",
        "  # -------------------------------------------------------------------------\n",
        "  tsize = len(t)\n",
        "  filenames = [] # vetor auxiliar para guardar o nome das figuras que compõem cada frame do gif\n",
        "  \n",
        "  max = 0 # quantidade auxiliar para o plot\n",
        "  for i in range(len(t)):\n",
        "    if np.max(np.real(Psi[:,i])) >= max:\n",
        "      max = np.max(np.real(Psi[:,i]))\n",
        "    elif np.max(np.imag(Psi[:,i])) > max:\n",
        "      max = np.max(np.imag(Psi[:,i]))\n",
        "\n",
        "  !mkdir pasta_frames # crio um diretório dentro do colab para guardar as figuras de cada frame\n",
        "  for a in range(tsize): # para cada frame\n",
        "    # Constrói a figura a ser apresentada \n",
        "    ax = plt.figure(figsize=(9,6))\n",
        "    ax = plt.plot(x, np.real(Psi[:,a]), label = r'$\\mathcal{R}[\\Psi(x,t)]$') # parte real\n",
        "    ax = plt.plot(x, np.imag(Psi[:, a]), label = r'$\\mathcal{I}[\\Psi(x,t)]$') # parte imagnária\n",
        "\n",
        "    plt.ylim(-max, max)\n",
        "\n",
        "    plt.title('Evolução temporal da função de onda $\\Psi(x,t)$', fontsize=22)\n",
        "    plt.xlabel(r'$x \\, [u.c.]$', fontsize=16)\n",
        "    plt.xticks(fontsize=14)\n",
        "    plt.yticks(fontsize=14)\n",
        "    plt.legend(fontsize=16)\n",
        "\n",
        "    # construção dos frames do gif\n",
        "    filename = 'frame_{}.png'.format(a)\n",
        "    filenames.append(filename)\n",
        "\n",
        "    if a == tsize-1: # se estiver no último frame do gif \n",
        "      for k in range(5):\n",
        "        filenames.append(filename) # acrescenta uma pausa maior (em todos os frames)\n",
        "\n",
        "    plt.savefig('pasta_frames/{}'.format(filename)) # salvo as figuras dentro do diretório criado\n",
        "    plt.close()\n",
        "\n",
        "  # Cria o gif \n",
        "  with imageio.get_writer('{}.gif'.format(Name), mode='I') as writer:\n",
        "    for filename in filenames:\n",
        "      image = imageio.imread('pasta_frames/{}'.format(filename))\n",
        "      writer.append_data(image)\n",
        "  \n",
        "  !rm -rf pasta_frames # deleto o diretório de figuras criado\n"
      ],
      "metadata": {
        "id": "QB86steqhaje"
      },
      "execution_count": 14,
      "outputs": []
    },
    {
      "cell_type": "code",
      "source": [
        "# teste de funcionamento\n",
        "m = h_bar = 1 \n",
        "omega = 100\n",
        "n = 1 \n",
        "L = 1\n",
        "tf = 0.05\n",
        "dt = 1e-4\n",
        "r = 0.075\n",
        "k0 = 5\n",
        "\n",
        "x, dx = cria_vetor_espacial(L, r, dt)\n",
        "t = cria_vetor_temporal(tf, dt)\n",
        "Psi_t0 = auto_funcao(n, x)*np.exp(1j*k0*x)\n",
        "\n",
        "Psi, N = resolve_Schrodinger(x, t, Psi_t0)\n",
        "#for i in range(0, len(t[:200]),50):\n",
        "  #plt.plot(x,np.real(Psi[:,i]), label='t = {}'.format(i))\n",
        "#  plt.plot(x,np.imag(Psi[:,i]), label='t = {}'.format(i))\n",
        "#plt.legend()\n",
        "#cria_gif(Psi, x, t, 'teste1')"
      ],
      "metadata": {
        "id": "PbTt7rAapMf-"
      },
      "execution_count": 20,
      "outputs": []
    },
    {
      "cell_type": "markdown",
      "source": [
        "## Códigos de Análise / Relatório"
      ],
      "metadata": {
        "id": "i3Kwt599xhEs"
      }
    },
    {
      "cell_type": "markdown",
      "source": [
        " #### Plot auxiliar para ilustrar a função potencial de um sistema genérico e os respectivos mínimos"
      ],
      "metadata": {
        "id": "Hc0F_Q9LxMSl"
      }
    },
    {
      "cell_type": "code",
      "source": [
        "from scipy.optimize import fsolve\n",
        "\n",
        "def aux(x): # polinômio genérico\n",
        "  return x**2-x**3+3*x**5-x+x**16-x**21 \n",
        "\n",
        "def d_aux(x): # primeira derivada\n",
        "  return 2*x-3*x**2+15*x**4-1+16*x**15-21*x**20 \n",
        "\n",
        "def d2_aux(x): # segunda derivada\n",
        "  return 2-6*x+60*x**3+96*x**14-420*x**19\n",
        "\n",
        "x = np.arange(-1,1.12, 0.01)\n",
        "plt.plot(x, aux(x))\n",
        "plt.show()\n",
        "\n",
        "pontos_criticos = fsolve(d_aux, [-1,-0.5,0.5,1]) # obenção dos máximos / mínimos locais\n",
        "x01 = pontos_criticos[0] # primeiro ponto de mínimo (local)\n",
        "x02 = pontos_criticos[2] # segundo ponto de mínimo (local)\n",
        "print('Pontos de mínimo local: {:.5f},{:.5f}'.format(x01, x02))"
      ],
      "metadata": {
        "colab": {
          "base_uri": "https://localhost:8080/",
          "height": 282
        },
        "id": "qcSeuS6XxpLH",
        "outputId": "3c39b55c-97d2-4135-eb54-cb74db569b70"
      },
      "execution_count": 17,
      "outputs": [
        {
          "output_type": "display_data",
          "data": {
            "text/plain": [
              "<Figure size 432x288 with 1 Axes>"
            ],
            "image/png": "[encoded data removed]"
          },
          "metadata": {
            "needs_background": "light"
          }
        },
        {
          "output_type": "stream",
          "name": "stdout",
          "text": [
            "Pontos de mínimo local: -0.87839,0.46825\n"
          ]
        }
      ]
    },
    {
      "cell_type": "code",
      "source": [
        "def aprox_Taylor1(x):\n",
        "  return aux(x01) + (1/2)*d2_aux(x01)*(x-x01)**2\n",
        "\n",
        "def aprox_Taylor2(x):\n",
        "  return aux(x02) + (1/2)*d2_aux(x02)*(x-x02)**2"
      ],
      "metadata": {
        "id": "y_uYWaULyRW_"
      },
      "execution_count": 18,
      "outputs": []
    },
    {
      "cell_type": "code",
      "source": [
        "ax = plt.figure(figsize=(9,6))\n",
        "plt.xlabel(r'$x$', fontsize=20) \n",
        "\n",
        "x = np.arange(-1,1.12, 0.01)\n",
        "ax = plt.axhline(1, color='green', linestyle='dashed', label=r'$E_{tot}$')\n",
        "ax = plt.plot(x, aux(x), color='black', label=r'$V(x)$')\n",
        "\n",
        "eps1 = 0.2\n",
        "eps2 = 0.4\n",
        "x01_plot = np.arange(x01-eps1, x01+eps1, eps1/10)\n",
        "x02_plot = np.arange(x02-eps2, x02+eps2, eps2/10)\n",
        "\n",
        "ax = plt.plot(x01_plot, aprox_Taylor1(x01_plot), color='red')\n",
        "ax = plt.plot(x02_plot, aprox_Taylor2(x02_plot), color='red')\n",
        "\n",
        "plt.tick_params(left = False, bottom = False, labelbottom = False, labelleft = False)\n",
        "\n",
        "plt.legend(fontsize=16)"
      ],
      "metadata": {
        "id": "ImBHCjHCpeO8",
        "colab": {
          "base_uri": "https://localhost:8080/",
          "height": 397
        },
        "outputId": "416f2b28-7af7-4245-a607-9964b13a29d4"
      },
      "execution_count": 19,
      "outputs": [
        {
          "output_type": "execute_result",
          "data": {
            "text/plain": [
              "<matplotlib.legend.Legend at 0x7f0dbf8ec450>"
            ]
          },
          "metadata": {},
          "execution_count": 19
        },
        {
          "output_type": "display_data",
          "data": {
            "text/plain": [
              "<Figure size 648x432 with 1 Axes>"
            ],
            "image/png": "[encoded data removed]"
          },
          "metadata": {}
        }
      ]
    },
    {
      "cell_type": "markdown",
      "source": [
        "#### Manual do código e análise da melhor escolha dos parâmetros de simulação (tf, L, dt, r)"
      ],
      "metadata": {
        "id": "zZ66o81-PnLY"
      }
    },
    {
      "cell_type": "markdown",
      "source": [
        "- Há um problema associado ao *tamanho do sistema* \n",
        "  - Frequências baixas => a função potencial demora para apresentar uma influência relevante (i.e., demora pra crescer), então é necessário utilizar um sistema de simulação grande para identificar as oscilações da partícula do oscilador => os valores esperados são calculados corretamente e a função de onda numérica obtida tem consistência física\n",
        "  - Frequências altas => a função potencial cresce muito rapidamente, então escolher um sistema pequeno já é suficiente para avaliar as oscilações da partícula corretamente => os valores esperados são calculados corretamente e a função de onda numérica obtida tem consistência física"
      ],
      "metadata": {
        "id": "VlZOIzTZjvSP"
      }
    },
    {
      "cell_type": "code",
      "source": [
        "# !Definição das variáveis globais!\n",
        "m = h_bar = 1 # constantes principais em [u.c.]\n",
        "omega = 100 # frequência de oscilação\n",
        "\n",
        "L = 1 # tamanho espacial do sistema\n",
        "tf = 0.05 # tempo final da simulação \n",
        "r = 0.075 # parâmetro numérico auxiliar\n",
        "dt = 0.0001 # passo temporal\n",
        "n = 0 # auto-estado de energia\n",
        "\n",
        "# ----------------------------------------------------------------------------\n",
        "\n",
        "x, dx = cria_vetor_espacial(L, r, dt) # define espaço do sistema\n",
        "t = cria_vetor_temporal(tf, dt) # define o intervalo temporal da simulação\n",
        "\n",
        "Psi_t0 = auto_funcao(n, x) # define a condição inicial\n",
        "Psi, N = resolve_Schrodinger(x, t, Psi_t0) # efetua a simulação numérica do sistema\n",
        "\n",
        "esp_E = valor_esperado_E(Psi, N, x, dx, t) # obtém o valor esperado da energia\n",
        "esp_x = valor_esperado_x(Psi, N, x, dx, t) # obtém o valor esperado da posição\n",
        "\n",
        "cria_gif(Psi, x, t, 'exemplo_manual') # cria um gif de evolução temporal da função de onda"
      ],
      "metadata": {
        "id": "_5mAui2ttkzJ"
      },
      "execution_count": 20,
      "outputs": []
    },
    {
      "cell_type": "code",
      "source": [
        "# Plots de esp_E, esp_x e N\n",
        "\n",
        "# Plot de esp_E\n",
        "plt.figure(figsize=(9,6))\n",
        "\n",
        "plt.scatter(t, esp_E, color='blue', label=r'$\\langle E \\rangle(t)$')\n",
        "plt.plot(t, np.array([50]*len(t)), color='red', label=r'$E_0 = (\\hbar n)/2$')\n",
        "\n",
        "plt.title('Valor esperado de energia em função do tempo', fontsize=22)\n",
        "plt.yticks(fontsize=16)\n",
        "plt.xlabel(r'$t \\, [u.c.]$', fontsize=18)\n",
        "plt.xticks(fontsize=16)\n",
        "plt.legend(fontsize=14)\n",
        "plt.show()\n",
        "\n",
        "print()\n",
        "\n",
        "# ---------------------------------------------------------\n",
        "# Plot de esp_x\n",
        "plt.figure(figsize=(9,6))\n",
        "\n",
        "plt.scatter(t, esp_x, color='blue', label=r'$\\langle x \\rangle(t)$')\n",
        "plt.plot(t, np.array([0]*len(t)), color='red', label=r'$\\langle x \\rangle_{teorico}(t)$')\n",
        "\n",
        "plt.suptitle('Valor esperado da posição em função do tempo', fontsize=22)\n",
        "plt.yticks(fontsize=16)\n",
        "plt.xlabel(r'$t \\, [u.c.]$', fontsize=18)\n",
        "plt.xticks(fontsize=16)\n",
        "plt.legend(fontsize=14)\n",
        "plt.show()\n",
        "\n",
        "print()\n",
        "\n",
        "# ---------------------------------------------------------\n",
        "# Plot de N\n",
        "plt.figure(figsize=(9,6))\n",
        "\n",
        "plt.scatter(t, N, color='blue', label=r'$N(t)$')\n",
        "plt.plot(t, np.array([1]*len(t)), color='red', label=r'$1$')\n",
        "\n",
        "plt.suptitle('Normalização da função de onda em função do tempo', fontsize=22)\n",
        "plt.yticks(fontsize=16)\n",
        "plt.xlabel(r'$t \\, [u.c.]$', fontsize=18)\n",
        "plt.xticks(fontsize=16)\n",
        "plt.legend(fontsize=14)\n",
        "plt.ylim(0,2)\n",
        "plt.show()\n"
      ],
      "metadata": {
        "colab": {
          "base_uri": "https://localhost:8080/",
          "height": 1000
        },
        "id": "qdgilCilp2lO",
        "outputId": "7c368e21-35bf-48f5-db33-2700c5e1f825"
      },
      "execution_count": 21,
      "outputs": [
        {
          "output_type": "display_data",
          "data": {
            "text/plain": [
              "<Figure size 648x432 with 1 Axes>"
            ],
            "image/png": "[encoded data removed]"
          },
          "metadata": {
            "needs_background": "light"
          }
        },
        {
          "output_type": "stream",
          "name": "stdout",
          "text": [
            "\n"
          ]
        },
        {
          "output_type": "display_data",
          "data": {
            "text/plain": [
              "<Figure size 648x432 with 1 Axes>"
            ],
            "image/png": "[encoded data removed]"
          },
          "metadata": {
            "needs_background": "light"
          }
        },
        {
          "output_type": "stream",
          "name": "stdout",
          "text": [
            "\n"
          ]
        },
        {
          "output_type": "display_data",
          "data": {
            "text/plain": [
              "<Figure size 648x432 with 1 Axes>"
            ],
            "image/png": "[encoded data removed]"
          },
          "metadata": {
            "needs_background": "light"
          }
        }
      ]
    },
    {
      "cell_type": "markdown",
      "source": [
        "- Apresentação de problemas e escolha de parâmetros"
      ],
      "metadata": {
        "id": "lgIUjTvkkaim"
      }
    },
    {
      "cell_type": "code",
      "source": [
        "# Omega = 1 // L = 0.05\n",
        "\n",
        "m = h_bar = 1 # constantes principais\n",
        "omega = 1 # frequência do sistema\n",
        "\n",
        "#L = 0.5 # (escolha problemática)\n",
        "L = 5 # escolha adequada\n",
        "tf = 0.05 # tempo total de simulação\n",
        "dt = 0.0001 # passo temporal\n",
        "r = 0.075 # parâmetro auxiliar\n",
        "n = 0 # número da auto-função inicial\n",
        "\n",
        "x, dx = cria_vetor_espacial(L, r, dt) # cria vetor espacial\n",
        "t = cria_vetor_temporal(tf, dt) # cria vetor temporal\n",
        "Psi_t0 = auto_funcao(n, x) # define a condição inicial\n",
        "\n",
        "Psi, N = resolve_Schrodinger(x, t, Psi_t0) # simula a função de onda\n",
        "esp_E = valor_esperado_E(Psi, N, x, dx, t) # calcula o valor esperado de E"
      ],
      "metadata": {
        "id": "QAyAt3Vt-VOJ"
      },
      "execution_count": 22,
      "outputs": []
    },
    {
      "cell_type": "code",
      "source": [
        "# Valor esperado da energia\n",
        "plt.figure(figsize=(9,6))\n",
        "\n",
        "plt.scatter(t, esp_E, color='blue', label=r'$\\langle E \\rangle(t)$')\n",
        "plt.plot(t, np.array([1/2]*len(t)), color='red', label=r'$E_0 = \\hbar \\omega / 2 = 0.5$')\n",
        "\n",
        "plt.suptitle('Valor esperado da energia em função do tempo', fontsize=22)\n",
        "plt.yticks(fontsize=16)\n",
        "plt.xlabel(r'$t \\, [u.c.]$', fontsize=18)\n",
        "plt.xticks(fontsize=16)\n",
        "plt.legend(fontsize=14)\n",
        "plt.ylim(0.1,1)\n",
        "plt.show()\n",
        "print()\n",
        "\n",
        "# Comparação da densidade de probabilidade para diferentes instantes de tempo\n",
        "plt.figure(figsize=(9,6))\n",
        "\n",
        "plt.plot(x, np.abs(Psi_t0)**2, color='red', linestyle='solid', label=r'$|\\psi_0(x)|^2$')\n",
        "plt.scatter(x, np.abs(Psi[:,0])**2, color='blue', label=r'$|\\Psi(x,0)|^2$')\n",
        "#plt.scatter(x, np.abs(Psi[:,10])**2, color='green', label=r'$|\\Psi(x,2)|^2$')\n",
        "plt.scatter(x, np.abs(Psi[:,len(t)-1])**2, color='black', label=r'$|\\Psi(x,tf)|^2$')\n",
        "\n",
        "plt.title('Função densidade de probabilidade', fontsize=22)\n",
        "plt.xlabel(r'$x \\, [u.c.]$', fontsize=16)\n",
        "plt.xticks(fontsize=16)\n",
        "plt.yticks(fontsize=16)\n",
        "plt.legend(fontsize=14)\n",
        "plt.show()\n",
        "print()\n",
        "\n",
        "# Apresentação explítica da condição de contorno problemática para a escolha de L pequeno\n",
        "plt.figure(figsize=(9,6))\n",
        "\n",
        "plt.plot(x, np.abs(Psi_t0)**2, color='red', linestyle='solid', label=r'$|\\psi_0(x)|^2$')\n",
        "plt.scatter(x, np.abs(Psi[:,0])**2, color='blue', label=r'$|\\Psi(x,0)|^2$')\n",
        "\n",
        "plt.title('Função densidade de probabilidade', fontsize=22)\n",
        "plt.xlabel(r'$x \\, [u.c.]$', fontsize=16)\n",
        "plt.xticks(fontsize=16)\n",
        "plt.yticks(fontsize=16)\n",
        "plt.legend(fontsize=14)\n",
        "plt.show()\n",
        "print()\n",
        "\n",
        "\n",
        "# Potencial para omega = 1 e L = 0.05\n",
        "plt.figure(figsize=(9,6))\n",
        "plt.plot(x, potencial_V(x), color='red', label=r'$V(x)$')\n",
        "plt.title('Potencial em função da posição', fontsize=22)\n",
        "plt.xticks(fontsize=16)\n",
        "plt.yticks(fontsize=16)\n",
        "\n",
        "plt.axvline(-L, color='black', linestyle='dashed')\n",
        "plt.axvline(+L, color='black', linestyle='dashed', label=r'$L = \\pm$ {}'.format(L))\n",
        "plt.ylim(0,15)\n",
        "plt.legend(fontsize=14, loc='upper center')\n",
        "plt.show()"
      ],
      "metadata": {
        "colab": {
          "base_uri": "https://localhost:8080/",
          "height": 1000
        },
        "id": "mpJSE3mbAOhj",
        "outputId": "7b99d797-a222-4c1e-c283-d9f6049ab241"
      },
      "execution_count": 23,
      "outputs": [
        {
          "output_type": "display_data",
          "data": {
            "text/plain": [
              "<Figure size 648x432 with 1 Axes>"
            ],
            "image/png": "[encoded data removed]"
          },
          "metadata": {
            "needs_background": "light"
          }
        },
        {
          "output_type": "stream",
          "name": "stdout",
          "text": [
            "\n"
          ]
        },
        {
          "output_type": "display_data",
          "data": {
            "text/plain": [
              "<Figure size 648x432 with 1 Axes>"
            ],
            "image/png": "[encoded data removed]"
          },
          "metadata": {
            "needs_background": "light"
          }
        },
        {
          "output_type": "stream",
          "name": "stdout",
          "text": [
            "\n"
          ]
        },
        {
          "output_type": "display_data",
          "data": {
            "text/plain": [
              "<Figure size 648x432 with 1 Axes>"
            ],
            "image/png": "[encoded data removed]"
          },
          "metadata": {
            "needs_background": "light"
          }
        },
        {
          "output_type": "stream",
          "name": "stdout",
          "text": [
            "\n"
          ]
        },
        {
          "output_type": "display_data",
          "data": {
            "text/plain": [
              "<Figure size 648x432 with 1 Axes>"
            ],
            "image/png": "[encoded data removed]"
          },
          "metadata": {
            "needs_background": "light"
          }
        }
      ]
    },
    {
      "cell_type": "code",
      "source": [
        "# Sobre as escolhas de r e dt\n",
        "from time import time \n",
        "\n",
        "m = h_bar = 1 # constantes principais\n",
        "omega = 100 # frequência de oscilação  \n",
        "n = 0 # auto-função inicial\n",
        "L = 1 # tamanho do sistema\n",
        "tf = 0.05 # tempo total de simulação\n",
        "r = 0.075 # mantendo r fixo\n",
        "dt_aux = [0.1, 0.01, 0.001, 0.0001, 0.00001] # passos temporais\n",
        "\n",
        "\n",
        "for dt in dt_aux:\n",
        "  x, dx = cria_vetor_espacial(L, r, dt)\n",
        "  t = cria_vetor_temporal(tf, dt)\n",
        "  Psi_t0 = auto_funcao(n, x)\n",
        "\n",
        "  start = time()\n",
        "  Psi, N = resolve_Schrodinger(x, t, Psi_t0)\n",
        "  esp_E = valor_esperado_E(Psi, N, x, dx, t)\n",
        "  print('dt = {} || dx = {:.5f} || TEMPO DE SIMULAÇÃO: {:.5f}'.format(dt, dx, time()-start))"
      ],
      "metadata": {
        "id": "BBSRjmY8CYyt",
        "colab": {
          "base_uri": "https://localhost:8080/"
        },
        "outputId": "2f3fe9eb-ee20-498e-c59a-d4efcd16071e"
      },
      "execution_count": null,
      "outputs": [
        {
          "output_type": "stream",
          "name": "stdout",
          "text": [
            "dt = 0.1 || dx = 0.81650 || TEMPO DE SIMULAÇÃO: 0.00036\n",
            "dt = 0.01 || dx = 0.25820 || TEMPO DE SIMULAÇÃO: 0.00174\n",
            "dt = 0.001 || dx = 0.08165 || TEMPO DE SIMULAÇÃO: 0.08368\n",
            "dt = 0.0001 || dx = 0.02582 || TEMPO DE SIMULAÇÃO: 1.89390\n",
            "dt = 1e-05 || dx = 0.00816 || TEMPO DE SIMULAÇÃO: 22.76264\n"
          ]
        }
      ]
    },
    {
      "cell_type": "markdown",
      "source": [
        "### Análise dos valores esperados de energia"
      ],
      "metadata": {
        "id": "9oMlNlhBhVUX"
      }
    },
    {
      "cell_type": "code",
      "source": [
        "# Simulação para diferentes valores de n e construção de uma tabela\n",
        "\n",
        "m = h_bar = 1 # constantes principais\n",
        "r = 0.075 # parâmetro auxiliar\n",
        "tf = 0.05 # tempo total de simulação\n",
        "dt = 1e-4 # passo temporal\n",
        "omega = 100 # frequência de oscilação\n",
        "L = 1 # tamanho do sistema\n",
        "\n",
        "n_aux = [0, 1, 2, 3, 4, 5, 6, 7 ,8, 9] # vetor auxiliar de valores de n\n",
        "\n",
        "for n in n_aux:\n",
        "  x, dx = cria_vetor_espacial(L, r, dt)\n",
        "  t = cria_vetor_temporal(tf, dt)\n",
        "  Psi_t0 = auto_funcao(n, x)\n",
        "\n",
        "  Psi, N = resolve_Schrodinger(x, t, Psi_t0)\n",
        "  esp_E = valor_esperado_E(Psi, N, x, dx, t)\n",
        "\n",
        "  print('n = {} | E_n = {} | <E> (t=0) = {:.3f} | Erro_Perc = {:.3f} %'.format(n, omega*(n+1/2), esp_E[0], 100*np.abs(esp_E[0] - omega*(n+1/2))/(omega*(n+1/2)) ))\n",
        "  "
      ],
      "metadata": {
        "id": "gr0OxAMgWzoG",
        "colab": {
          "base_uri": "https://localhost:8080/"
        },
        "outputId": "213a6ca5-56c6-4387-f3f0-37b0d0032563"
      },
      "execution_count": null,
      "outputs": [
        {
          "output_type": "stream",
          "name": "stdout",
          "text": [
            "n = 0 | E_n = 50.0 | <E> (t=0) = 49.793 | Erro_Perc = 0.414 %\n",
            "n = 1 | E_n = 150.0 | <E> (t=0) = 148.966 | Erro_Perc = 0.689 %\n",
            "n = 2 | E_n = 250.0 | <E> (t=0) = 247.320 | Erro_Perc = 1.072 %\n",
            "n = 3 | E_n = 350.0 | <E> (t=0) = 344.864 | Erro_Perc = 1.467 %\n",
            "n = 4 | E_n = 450.0 | <E> (t=0) = 441.606 | Erro_Perc = 1.865 %\n",
            "n = 5 | E_n = 550.0 | <E> (t=0) = 537.556 | Erro_Perc = 2.263 %\n",
            "n = 6 | E_n = 650.0 | <E> (t=0) = 632.722 | Erro_Perc = 2.658 %\n",
            "n = 7 | E_n = 750.0 | <E> (t=0) = 727.113 | Erro_Perc = 3.052 %\n",
            "n = 8 | E_n = 850.0 | <E> (t=0) = 820.738 | Erro_Perc = 3.443 %\n",
            "n = 9 | E_n = 950.0 | <E> (t=0) = 913.606 | Erro_Perc = 3.831 %\n"
          ]
        }
      ]
    },
    {
      "cell_type": "code",
      "source": [
        "# Observo que o erro percentual aumenta à medida que o n aumenta\n",
        "# Justificativa: isso acontece pq n maior => estados mais energéticos => mais oscilações\n",
        "# => precisamos de um passo temporal menor pra ganhar mais precisão \n",
        "# (como dt e dx estao vinculados, dt menor => dx menor, então tbm ganhamos mais precisão espacial\n",
        "# na função de onda e, consequentemente, as integrais em x para o cálculo de <E> fica melhor)\n",
        "\n",
        "# Nova simulação para os mesmos valores de n, mas para uma precisão maior do passo dt\n",
        "\n",
        "m = h_bar = 1 # constantes principais\n",
        "r = 0.075 # parâmetro auxiliar\n",
        "dt = 1e-5 # passo temporal\n",
        "tf = 0.05 # tempo total de simulação \n",
        "omega = 100 # frequência de oscilação\n",
        "L = 1 # tamanho do sistema\n",
        "\n",
        "n_aux = [0, 1, 2, 3, 4, 5, 6, 7 ,8, 9] # vetor auxiliar de valores n\n",
        "\n",
        "for n in n_aux:\n",
        "  x, dx = cria_vetor_espacial(L, r, dt)\n",
        "  t = cria_vetor_temporal(tf, dt)\n",
        "  Psi_t0 = auto_funcao(n, x)\n",
        "\n",
        "  Psi, N = resolve_Schrodinger(x, t, Psi_t0)\n",
        "  esp_E = valor_esperado_E(Psi, N, x, dx, t)\n",
        "\n",
        "  print('n = {} | E_n = {} | <E> (t=0) = {:.3f} | Erro_Perc = {:.3f} %'.format(n, omega*(n+1/2), esp_E[0], 100*np.abs(esp_E[0] - omega*(n+1/2))/(omega*(n+1/2)) ))\n",
        "  "
      ],
      "metadata": {
        "colab": {
          "base_uri": "https://localhost:8080/"
        },
        "id": "TUZ9e8dZ4bYj",
        "outputId": "8202fe4d-80ec-43ef-e3bc-4e4cf64b7124"
      },
      "execution_count": null,
      "outputs": [
        {
          "output_type": "stream",
          "name": "stdout",
          "text": [
            "n = 0 | E_n = 50.0 | <E> (t=0) = 49.97918 | Erro_Perc = 0.04164 %\n",
            "n = 1 | E_n = 150.0 | <E> (t=0) = 149.89591 | Erro_Perc = 0.06939 %\n",
            "n = 2 | E_n = 250.0 | <E> (t=0) = 249.72946 | Erro_Perc = 0.10822 %\n",
            "n = 3 | E_n = 350.0 | <E> (t=0) = 349.47990 | Erro_Perc = 0.14860 %\n",
            "n = 4 | E_n = 450.0 | <E> (t=0) = 449.14732 | Erro_Perc = 0.18948 %\n",
            "n = 5 | E_n = 550.0 | <E> (t=0) = 548.73184 | Erro_Perc = 0.23058 %\n",
            "n = 6 | E_n = 650.0 | <E> (t=0) = 648.23352 | Erro_Perc = 0.27177 %\n",
            "n = 7 | E_n = 750.0 | <E> (t=0) = 747.65248 | Erro_Perc = 0.31300 %\n",
            "n = 8 | E_n = 850.0 | <E> (t=0) = 846.98879 | Erro_Perc = 0.35426 %\n",
            "n = 9 | E_n = 950.0 | <E> (t=0) = 946.24255 | Erro_Perc = 0.39552 %\n"
          ]
        }
      ]
    },
    {
      "cell_type": "markdown",
      "source": [
        "- Análise da novo estado inicial\n",
        "\n",
        "$$ \\Psi(x, t=0) = \\psi_0(x)e^{ik_0x}$$ \n",
        "\n",
        "como $k_0$ impacta o valor esperado de energia e o valor esperado da posição?"
      ],
      "metadata": {
        "id": "i9jhp7zqkDJZ"
      }
    },
    {
      "cell_type": "code",
      "source": [
        "\n",
        "m = h_bar = 1 \n",
        "omega = 100\n",
        "dt = 1e-4\n",
        "L = 1 \n",
        "tf = 0.05\n",
        "r = 0.075\n",
        "n = 0\n",
        "\n",
        "x, dx = cria_vetor_espacial(L, r, dt)\n",
        "t = cria_vetor_temporal(tf, dt)\n",
        "\n",
        "k01 = 1\n",
        "Psi_t01 = auto_funcao(n, x)*np.exp(1j*k01*x)\n",
        "Psi, N = resolve_Schrodinger(x, t, Psi_t01)\n",
        "\n",
        "esp_E1 = valor_esperado_E(Psi, N, x, dx, t)\n",
        "plt.plot(t, esp_E1, color='black', label='k0 = 1')\n",
        "\n",
        "k02 = 2\n",
        "Psi_t02 = auto_funcao(n, x)*np.exp(1j*k02*x)\n",
        "Psi, N = resolve_Schrodinger(x, t, Psi_t02)\n",
        "esp_E2 = valor_esperado_E(Psi, N, x, dx, t)\n",
        "plt.plot(t, esp_E2, color='green', label='k0 = 2')\n",
        "\n",
        "plt.ylim(45,55)\n",
        "plt.show()\n"
      ],
      "metadata": {
        "colab": {
          "base_uri": "https://localhost:8080/",
          "height": 265
        },
        "id": "CBUhZVBU2Jov",
        "outputId": "336fb1c3-1999-458f-8e62-611888a156d9"
      },
      "execution_count": null,
      "outputs": [
        {
          "output_type": "display_data",
          "data": {
            "text/plain": [
              "<Figure size 432x288 with 1 Axes>"
            ],
            "image/png": "[encoded data removed]"
          },
          "metadata": {
            "needs_background": "light"
          }
        }
      ]
    },
    {
      "cell_type": "code",
      "source": [
        "# Simulação para cálculo dos valores esperados de E para diferentes valores de n,\n",
        "# mas agora levando em conta a presença da exponencial complexa exp(ik0x)\n",
        "\n",
        "m = h_bar = 1 # constantes principais\n",
        "r = 0.075 # parâmetro auxiliar\n",
        "dt = 1e-5 # passo temporal\n",
        "tf = 0.05 # tempo de simulação\n",
        "omega = 100 # frequência de oscilação\n",
        "L = 1 # tamanho do sistema\n",
        "\n",
        "n_aux = [0, 1, 2, 3, 4, 5, 6, 7 ,8, 9] # vetor auxiliar\n",
        "k0 = 5 # valor escolhido para k0\n",
        "\n",
        "for n in n_aux: # para cada n no vetor n_aux\n",
        "  x, dx = cria_vetor_espacial(L, r, dt) # cria um vetor espacial\n",
        "  t = cria_vetor_temporal(tf, dt) # cria um vetor temporal\n",
        "\n",
        "  # Simulação 1)\n",
        "  # ---------------------------------------------------------------------------------\n",
        "  Psi_t0 = auto_funcao(n, x) # condição inicial sem perturbação exponencial\n",
        "\n",
        "  Psi, N = resolve_Schrodinger(x, t, Psi_t0) # simula o sistema\n",
        "  esp_E1 = valor_esperado_E(Psi, N, x, dx, t) # calcula os valores esperados de energia\n",
        "  # ---------------------------------------------------------------------------------\n",
        "\n",
        "  # Simulação 2)\n",
        "  # ---------------------------------------------------------------------------------\n",
        "  Psi_t0 = auto_funcao(n,x)*np.exp(1j*k0*x) # concição inicial com perturbação exponencial\n",
        "  \n",
        "  Psi,N = resolve_Schrodinger(x, t, Psi_t0) # simula o sistema\n",
        "  esp_E2 = valor_esperado_E(Psi, N, x, dx, t) # calcula os valores esperados de energia\n",
        "\n",
        "  print(\"n = {} | <E> = {:.3f} | <E'> (t=0) = {:.3f} | Discrepância = {:.3f}\".format(n, esp_E1[0], esp_E2[0], np.abs(esp_E1[0] - esp_E2[0])))\n",
        "  "
      ],
      "metadata": {
        "colab": {
          "base_uri": "https://localhost:8080/"
        },
        "id": "0TMctyJrl6EO",
        "outputId": "6328a171-0218-4efb-9352-248829f67354"
      },
      "execution_count": null,
      "outputs": [
        {
          "output_type": "stream",
          "name": "stdout",
          "text": [
            "n = 0 | <E> = 49.979 | <E'> (t=0) = 62.457 | Discrepância = 12.47745\n",
            "n = 1 | <E> = 149.896 | <E'> (t=0) = 162.332 | Discrepância = 12.43586\n",
            "n = 2 | <E> = 249.729 | <E'> (t=0) = 262.124 | Discrepância = 12.39434\n",
            "n = 3 | <E> = 349.480 | <E'> (t=0) = 361.833 | Discrepância = 12.35288\n",
            "n = 4 | <E> = 449.147 | <E'> (t=0) = 461.459 | Discrepância = 12.31150\n",
            "n = 5 | <E> = 548.732 | <E'> (t=0) = 561.002 | Discrepância = 12.27019\n",
            "n = 6 | <E> = 648.234 | <E'> (t=0) = 660.462 | Discrepância = 12.22894\n",
            "n = 7 | <E> = 747.652 | <E'> (t=0) = 759.840 | Discrepância = 12.18776\n",
            "n = 8 | <E> = 846.989 | <E'> (t=0) = 859.135 | Discrepância = 12.14666\n",
            "n = 9 | <E> = 946.243 | <E'> (t=0) = 958.348 | Discrepância = 12.10562\n"
          ]
        }
      ]
    },
    {
      "cell_type": "code",
      "source": [
        "# Construção das animações correspondentes às diferentes funções de onda \n",
        "# utilizadas para apresentação da tabela anterior\n",
        "\n",
        "m = h_bar = 1 # constantes principais\n",
        "r = 0.075 # parâmetro auxiliar\n",
        "dt = 1e-4 # passo temporal\n",
        "tf = 0.05 # tempo de simulação\n",
        "omega = 100 # frequência de oscilação\n",
        "L = 1 # tamanho do sistema\n",
        "\n",
        "n_aux = [0, 1, 2, 3, 4, 5, 6, 7 ,8, 9] # vetor auxiliar\n",
        "k0 = 5 # valor escolhido para k0\n",
        "\n",
        "for n in n_aux:\n",
        "  x, dx = cria_vetor_espacial(L, r, dt) # cria um vetor espacial\n",
        "  t = cria_vetor_temporal(tf, dt) # cria um vetor temporal\n",
        "  Psi_t0 = auto_funcao(n,x)*np.exp(1j*k0*x) # concição inicial com perturbação exponencial\n",
        "  \n",
        "  Psi,N = resolve_Schrodinger(x, t, Psi_t0) # simula o sistema\n",
        "  cria_gif(Psi, x, t, 'k0 = {} || n = {}'.format(k0, n))\n"
      ],
      "metadata": {
        "id": "auVDYSmSgd-P"
      },
      "execution_count": null,
      "outputs": []
    },
    {
      "cell_type": "markdown",
      "source": [
        "- Teorema de ehrenfest \n",
        "\n",
        "$$\n",
        "\\langle p \\rangle = m \\frac{d \\langle x \\rangle}{dt}\n",
        "$$\n",
        "\n",
        "$$\n",
        "\\frac{d\\langle p \\rangle}{dt} = \\left\\langle - \\frac{\\partial V}{\\partial x} \\right\\rangle\n",
        "$$\n",
        "\n"
      ],
      "metadata": {
        "id": "LuirFKL_vQpG"
      }
    },
    {
      "cell_type": "code",
      "source": [
        "# Teste para diferentes valores de n na condição inicial e verificação do fato de que \n",
        "# <x> = 0\n",
        "\n",
        "m = hbar = 1 # constantes principais\n",
        "L = 0.5 # tamanho do sistema\n",
        "tf = 0.1 # tempo total de simulação (tf > T)\n",
        "dt = 1e-5 # passo temporal \n",
        "r = 0.075 # parâmetro auxiliar\n",
        "omega = 100 # => T = 2pi/omega ~ 0.06\n",
        "n_aux = [0,1,2] # número n da auto-função inicial\n",
        "\n",
        "ax = plt.figure(figsize=(9,6))\n",
        "for n in n_aux:\n",
        "  x,dx = cria_vetor_espacial(L, r, dt)\n",
        "  t = cria_vetor_temporal(tf, dt)\n",
        "  Psi_t0 = auto_funcao(n, x)\n",
        "\n",
        "  Psi, N, = resolve_Schrodinger(x, t, Psi_t0)\n",
        "  esp_x = valor_esperado_x(Psi, N, x, dx, t)\n",
        "  esp_E = valor_esperado_E(Psi, N, x, dx, t) \n",
        "\n",
        "  ax = plt.plot(t, esp_x, label='n = {}'.format(n))\n",
        "plt.legend(fontsize=14)\n",
        "plt.title('Valor esperado da posição', fontsize=22)\n",
        "plt.xlabel(r'$t \\, [u.c.]$', fontsize=16)\n",
        "plt.ylabel(r'$<x>$', fontsize=16)\n",
        "plt.xticks(fontsize=14)\n",
        "plt.yticks(fontsize=14)\n",
        "plt.ylim(-1,1)"
      ],
      "metadata": {
        "colab": {
          "base_uri": "https://localhost:8080/",
          "height": 438
        },
        "id": "CjhVQYWi8nwr",
        "outputId": "874ae44f-b557-4d5c-f6b8-2319adfd4c48"
      },
      "execution_count": null,
      "outputs": [
        {
          "output_type": "execute_result",
          "data": {
            "text/plain": [
              "(-1.0, 1.0)"
            ]
          },
          "metadata": {},
          "execution_count": 22
        },
        {
          "output_type": "display_data",
          "data": {
            "text/plain": [
              "<Figure size 648x432 with 1 Axes>"
            ],
            "image/png": "[encoded data removed]"
          },
          "metadata": {
            "needs_background": "light"
          }
        }
      ]
    },
    {
      "cell_type": "code",
      "source": [
        "# Teste para diferentes valores de k0\n",
        "\n",
        "m = hbar = 1 # constantes principais\n",
        "L = 1 # tamanho do sistema\n",
        "tf = 0.15 # tempo total de simulação (tf > T)\n",
        "dt = 1e-4 # passo temporal \n",
        "r = 0.075 # parâmetro auxiliar\n",
        "omega = 100 # => T = 2pi/omega ~ 0.06\n",
        "n = 0 # número n da auto-função inicial\n",
        "k0_aux = [1,5,10,20] # vetor de parâmetros k0\n",
        "\n",
        "ax = plt.figure(figsize=(9,6))\n",
        "for k0 in k0_aux:\n",
        "  x,dx = cria_vetor_espacial(L, r, dt)\n",
        "  t = cria_vetor_temporal(tf, dt)\n",
        "  Psi_t0 = auto_funcao(n, x)*np.exp(1j*k0*x)\n",
        "\n",
        "  Psi, N, = resolve_Schrodinger(x, t, Psi_t0)\n",
        "  cria_gif(Psi, x, t, 'k0 = {} || n = 0'.format(k0))\n",
        "  esp_x = valor_esperado_x(Psi, N, x, dx, t)\n",
        "  esp_E = valor_esperado_E(Psi, N, x, dx, t) \n",
        "\n",
        "  ax = plt.plot(t, esp_x, label='k0 = {} [u.c.]'.format(k0))\n",
        "plt.axvline(0.0645, color='black', linestyle='dashed')\n",
        "plt.legend(fontsize=14)\n",
        "plt.title('Valor esperado da posição', fontsize=22)\n",
        "plt.xlabel(r'$t \\, [u.c.]$', fontsize=16)\n",
        "plt.ylabel(r'$<x>$', fontsize=16)\n",
        "plt.xticks(fontsize=14)\n",
        "plt.yticks(fontsize=14)\n",
        "plt.xlim(0, 0.08) # análise do período de oscilação"
      ],
      "metadata": {
        "id": "Hi7pjvUaE-mV"
      },
      "execution_count": null,
      "outputs": []
    },
    {
      "cell_type": "code",
      "source": [
        "# execução da última simulação separadamente por questões de RAM do colab\n",
        "\n",
        "m = hbar = 1 # constantes principais\n",
        "L = 1 # tamanho do sistema\n",
        "tf = 0.15 # tempo total de simulação (tf > T)\n",
        "dt = 1e-4 # passo temporal \n",
        "r = 0.075 # parâmetro auxiliar\n",
        "omega = 100 # => T = 2pi/omega ~ 0.06\n",
        "n = 0 # número n da auto-função inicial\n",
        "k0 = 20 # parâmetro k0\n",
        "\n",
        "x,dx = cria_vetor_espacial(L, r, dt)\n",
        "t = cria_vetor_temporal(tf, dt)\n",
        "Psi_t0 = auto_funcao(n, x)*np.exp(1j*k0*x)\n",
        "\n",
        "Psi, N, = resolve_Schrodinger(x, t, Psi_t0)\n",
        "cria_gif(Psi, x, t, 'k0 = {} || n = 0'.format(k0))"
      ],
      "metadata": {
        "id": "ST_NGfoIzUYa",
        "colab": {
          "base_uri": "https://localhost:8080/"
        },
        "outputId": "db608d1d-1d0b-4003-b109-90f38e13ee93"
      },
      "execution_count": 16,
      "outputs": [
        {
          "output_type": "stream",
          "name": "stdout",
          "text": [
            "mkdir: cannot create directory ‘pasta_frames’: File exists\n"
          ]
        }
      ]
    },
    {
      "cell_type": "code",
      "source": [
        ""
      ],
      "metadata": {
        "id": "c-TwXSyJz_29"
      },
      "execution_count": null,
      "outputs": []
    }
  ]
}
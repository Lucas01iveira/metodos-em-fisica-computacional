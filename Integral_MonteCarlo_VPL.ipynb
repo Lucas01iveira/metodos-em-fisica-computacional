{
  "nbformat": 4,
  "nbformat_minor": 0,
  "metadata": {
    "colab": {
      "name": "Integral_MonteCarlo_VPL.ipynb",
      "provenance": [],
      "authorship_tag": "ABX9TyMn3y3BbkbGL8LU2yc2uFZd",
      "include_colab_link": true
    },
    "kernelspec": {
      "name": "python3",
      "display_name": "Python 3"
    },
    "language_info": {
      "name": "python"
    }
  },
  "cells": [
    {
      "cell_type": "markdown",
      "metadata": {
        "id": "view-in-github",
        "colab_type": "text"
      },
      "source": [
        "<a href=\"https://colab.research.google.com/github/Lucas01iveira/metodos-em-fisica-computacional/blob/main/Integral_MonteCarlo_VPL.ipynb\" target=\"_parent\"><img src=\"https://colab.research.google.com/assets/colab-badge.svg\" alt=\"Open In Colab\"/></a>"
      ]
    },
    {
      "cell_type": "code",
      "execution_count": null,
      "metadata": {
        "id": "C9hsAiGTDPpL"
      },
      "outputs": [],
      "source": [
        "import numpy as np\n",
        "import matplotlib.pyplot as plt"
      ]
    },
    {
      "cell_type": "code",
      "source": [
        "# Função auxiliar: circunferência de raio R\n",
        "def f(R,x):\n",
        "  return np.sqrt(R**2-x**2)"
      ],
      "metadata": {
        "id": "yPitAAE8I1Yf"
      },
      "execution_count": null,
      "outputs": []
    },
    {
      "cell_type": "code",
      "source": [
        "# Parâmetros de entrada\n",
        "'''\n",
        "N = int(input()) # Numero de agulhas\n",
        "Lb2 = float(input()) # L barra 2 ou L/2 \n",
        "seed = int(input()) # semente dos números aleatórios\n",
        "\n",
        "'''\n",
        "\n",
        "# Parâmetros de debug\n",
        "N = 1275\n",
        "R = Lb2 = 1 # Raio da circunferência\n",
        "seed = 786\n",
        "np.random.seed(seed)\n",
        "\n",
        "P = [] # vetor potencia: dar append dos valores calculados a cada potencia de 10"
      ],
      "metadata": {
        "id": "YOH-pw0IJQ4V"
      },
      "execution_count": null,
      "outputs": []
    },
    {
      "cell_type": "code",
      "source": [
        "# função \"mod\"\n",
        "'''\n",
        "np.mod(x,y) -> resto da divisão x/y\n",
        "'''"
      ],
      "metadata": {
        "colab": {
          "base_uri": "https://localhost:8080/",
          "height": 35
        },
        "id": "GXryfCqfKySY",
        "outputId": "900e2b2b-bb24-4f21-8e68-bcf5b8b0dd40"
      },
      "execution_count": null,
      "outputs": [
        {
          "output_type": "execute_result",
          "data": {
            "text/plain": [
              "'\\nnp.mod(x,y) -> resto da divisão x/y\\n'"
            ],
            "application/vnd.google.colaboratory.intrinsic+json": {
              "type": "string"
            }
          },
          "metadata": {},
          "execution_count": 4
        }
      ]
    },
    {
      "cell_type": "code",
      "source": [
        "cont = 0\n",
        "for i in range(1,N+1):\n",
        "  x_random = np.random.uniform(0,R)\n",
        "  y_random = np.random.uniform(0,R)\n",
        "\n",
        "  if y_random <= f(R, x_random):\n",
        "    cont += 1\n",
        "  \n",
        "  if (np.mod(np.log10(i),1) == 0): # Controle do índice para alguma potência inteira de 10 (índice variando entre 0 e N)\n",
        "    # i.e.; se i é uma potência de 10, eu guardo o valor\n",
        "    estima_pi = 4*((cont/i)*R**2)\n",
        "    P.append(estima_pi)\n",
        "print(P)"
      ],
      "metadata": {
        "id": "nx-J3U7AKbU2",
        "colab": {
          "base_uri": "https://localhost:8080/"
        },
        "outputId": "dfe90dc4-0d59-45b9-efda-c6cd8012411e"
      },
      "execution_count": null,
      "outputs": [
        {
          "output_type": "stream",
          "name": "stdout",
          "text": [
            "[4.0, 3.6, 2.96, 3.08]\n"
          ]
        }
      ]
    },
    {
      "cell_type": "code",
      "source": [
        "for j in range(len(P)):\n",
        "    print(\"{:10.6e}\".format(P[j]))"
      ],
      "metadata": {
        "colab": {
          "base_uri": "https://localhost:8080/"
        },
        "id": "Gc5MElOXMaNF",
        "outputId": "4b3f6ed3-c0fc-43b6-f79f-22b9da95ac27"
      },
      "execution_count": null,
      "outputs": [
        {
          "output_type": "stream",
          "name": "stdout",
          "text": [
            "4.000000e+00\n",
            "3.600000e+00\n",
            "2.960000e+00\n",
            "3.080000e+00\n"
          ]
        }
      ]
    },
    {
      "cell_type": "markdown",
      "source": [
        "## Plot das figuras"
      ],
      "metadata": {
        "id": "uy8HDcI_T8XB"
      }
    },
    {
      "cell_type": "code",
      "source": [
        "# Agulhas de Buffon\n",
        "ax = plt.figure(figsize=(9,6))\n",
        "\n",
        "cont = 0\n",
        "for i in range(1,N+1):\n",
        "  x_random = np.random.uniform(0,R)\n",
        "  y_random = np.random.uniform(0,R)\n",
        "  \n",
        "  if i == 1:\n",
        "    ax = plt.scatter(x_random, y_random, facecolor='white', edgecolor='red', label='Posição das agulhas')\n",
        "  else:\n",
        "    ax = plt.scatter(x_random, y_random, facecolor='white', edgecolor='red')\n",
        "\n",
        "x_plot = np.arange(0,R+0.01,0.01)\n",
        "ax = plt.plot(x_plot, f(R,x_plot), color='black', linestyle='solid')\n",
        "plt.xlabel('x')\n",
        "plt.ylabel('y')\n",
        "plt.legend()\n",
        "plt.show()"
      ],
      "metadata": {
        "colab": {
          "base_uri": "https://localhost:8080/",
          "height": 388
        },
        "id": "eawr8vJ5Tw2F",
        "outputId": "17959922-a067-441a-a919-e8a80a8abefe"
      },
      "execution_count": null,
      "outputs": [
        {
          "output_type": "display_data",
          "data": {
            "text/plain": [
              "<Figure size 648x432 with 1 Axes>"
            ],
            "image/png": "[encoded data removed]"
          },
          "metadata": {
            "needs_background": "light"
          }
        }
      ]
    },
    {
      "cell_type": "code",
      "source": [
        "ax = plt.figure(figsize=(9,6))\n",
        "cont = 0\n",
        "\n",
        "np.random.seed(seed)\n",
        "indices = []\n",
        "for i in range(1,N+1):\n",
        "  x_random = np.random.uniform(0,R)\n",
        "  y_random = np.random.uniform(0,R)\n",
        "\n",
        "  if y_random <= f(R, x_random):\n",
        "    cont += 1\n",
        "  \n",
        "  if (np.mod(np.log10(i),1) == 0): # Controle do índice para alguma potência inteira de 10 (índice variando entre 0 e N)\n",
        "    # i.e.; se i é uma potência de 10, eu guardo o valor\n",
        "    estima_pi = 4*((cont/i)*R**2)\n",
        "    P.append(estima_pi)\n",
        "    indices.append(np.log10(i))\n",
        "\n",
        "#ax = plt.plot(indices, P, color='red', marker='o')\n",
        "#ax = plt.axhline(np.pi, color='black', linestyle='dashed')\n",
        "#plt.show()\n",
        "print(P)"
      ],
      "metadata": {
        "colab": {
          "base_uri": "https://localhost:8080/",
          "height": 52
        },
        "id": "ml7xu4soVOgW",
        "outputId": "bba4976b-0df0-40c2-bbdf-b0db960838d7"
      },
      "execution_count": null,
      "outputs": [
        {
          "output_type": "stream",
          "name": "stdout",
          "text": [
            "[4.0, 3.6, 2.96, 3.08, 4.0, 3.6, 4.0, 3.2, 4.0, 2.8, 3.32, 3.172, 4.0, 3.2, 3.2, 3.136, 4.0, 3.6, 2.96, 3.08]\n"
          ]
        },
        {
          "output_type": "display_data",
          "data": {
            "text/plain": [
              "<Figure size 648x432 with 0 Axes>"
            ]
          },
          "metadata": {}
        }
      ]
    },
    {
      "cell_type": "code",
      "source": [
        ""
      ],
      "metadata": {
        "id": "a7PEwV37W1X2"
      },
      "execution_count": null,
      "outputs": []
    }
  ]
}